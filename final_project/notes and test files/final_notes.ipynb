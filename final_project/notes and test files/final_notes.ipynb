{
 "cells": [
  {
   "cell_type": "code",
   "execution_count": 1,
   "metadata": {},
   "outputs": [],
   "source": [
    "import pandas as pd\n",
    "import csv\n"
   ]
  },
  {
   "cell_type": "code",
   "execution_count": 6,
   "metadata": {},
   "outputs": [
    {
     "data": {
      "text/plain": [
       "numpy.int64"
      ]
     },
     "execution_count": 6,
     "metadata": {},
     "output_type": "execute_result"
    }
   ],
   "source": [
    "net_int = pd.read_csv('../final_project/top_netflix_int.csv')\n",
    "type(net_int['value'][0])"
   ]
  },
  {
   "cell_type": "code",
   "execution_count": 12,
   "metadata": {},
   "outputs": [
    {
     "name": "stderr",
     "output_type": "stream",
     "text": [
      "/tmp/user/21868/ipykernel_747261/2741356808.py:4: FutureWarning: The default value of numeric_only in DataFrame.max is deprecated. In a future version, it will default to False. In addition, specifying 'numeric_only=None' is deprecated. Select only valid columns or specify the value of numeric_only to silence this warning.\n",
      "  top_net.max()\n"
     ]
    },
    {
     "data": {
      "text/plain": [
       "As of                     9/9/21\n",
       "Rank                          10\n",
       "Year to Date Rank              9\n",
       "Last Week Rank                 9\n",
       "Title                     Ãlite\n",
       "Type                     TV Show\n",
       "Netflix Release Date    9-Sep-20\n",
       "Days_Top_10                  428\n",
       "Viewership Score            1474\n",
       "dtype: object"
      ]
     },
     "execution_count": 12,
     "metadata": {},
     "output_type": "execute_result"
    }
   ],
   "source": [
    "top_net = pd.read_csv('../final_project/netflix daily top 10.csv')\n",
    "#for col in top_net.columns:\n",
    "   # print(col)\n",
    "top_net.max()\n",
    "\n",
    "    #Days In Top 10"
   ]
  },
  {
   "cell_type": "code",
   "execution_count": null,
   "metadata": {},
   "outputs": [],
   "source": [
    "#df.sort_values(by=['col1'])\n",
    "#top_net.sort_values(by =['Days_Top_10', ascending=False])\n",
    "top_net.sort_values(by=['Days_Top_10'], ascending=False)"
   ]
  },
  {
   "cell_type": "code",
   "execution_count": 2,
   "metadata": {},
   "outputs": [
    {
     "data": {
      "text/plain": [
       "2764"
      ]
     },
     "execution_count": 2,
     "metadata": {},
     "output_type": "execute_result"
    }
   ],
   "source": [
    "disney = pd.read_csv('../data/disney_kid.csv')\n",
    "netflix = pd.read_csv('../data/netflix_kid.csv')\n",
    "hulu = pd.read_csv('../data/hulu_kid.csv')\n",
    "amazon = pd.read_csv('../data/amazon_kid.csv')\n",
    "amazon.shape[0]"
   ]
  },
  {
   "cell_type": "code",
   "execution_count": 4,
   "metadata": {},
   "outputs": [],
   "source": [
    "amazon_india = pd.read_csv('../data/amazon_kid_India.csv')\n",
    "amazon_UK = pd.read_csv('../data/amazon_kid_UK.csv')\n",
    "amazon_US = pd.read_csv('../data/amazon_kid_USA.csv')\n",
    "\n",
    "disney_CA = pd.read_csv('../data/disney_kid_Canada.csv')\n",
    "disney_UK = pd.read_csv('../data/disney_kid_UK.csv')\n",
    "disney_US = pd.read_csv('../data/disney_kid_USA.csv')\n",
    "\n",
    "hulu_JP = pd.read_csv('../data/hulu_kid_Japan.csv')\n",
    "hulu_UK = pd.read_csv('../data/hulu_kid_UK.csv')\n",
    "hulu_US = pd.read_csv('../data/hulu_kid_USA.csv')\n",
    "\n",
    "netflix_JP = pd.read_csv('../data/netflix_kid_India.csv')\n",
    "netflix_UK = pd.read_csv('../data/netflix_kid_UK.csv')\n",
    "netflix_US = pd.read_csv('../data/netflix_kid_USA.csv')\n",
    "\n"
   ]
  },
  {
   "cell_type": "code",
   "execution_count": 95,
   "metadata": {},
   "outputs": [
    {
     "data": {
      "text/plain": [
       "0"
      ]
     },
     "execution_count": 95,
     "metadata": {},
     "output_type": "execute_result"
    }
   ],
   "source": [
    "test = netflix_JP[netflix_JP['listed_in'].str.contains('Cartoon')]\n",
    "test.shape[0]\n",
    "#netflix_UK.listed_in.unique()\n"
   ]
  },
  {
   "cell_type": "code",
   "execution_count": 99,
   "metadata": {},
   "outputs": [],
   "source": [
    "dfs = [net_JP, net_UK, net_US]\n",
    "net_genres = pd.concat(dfs)\n",
    "net_genres.to_csv('netflix_genres.csv')"
   ]
  },
  {
   "cell_type": "code",
   "execution_count": 98,
   "metadata": {},
   "outputs": [],
   "source": [
    "net_JP = pd.DataFrame({'Genre': ['Comedy', 'Drama', 'Science Fiction/Fantasy', 'Action/Adventure', 'Suspense/Horror', 'Documentary', 'Romance', 'International', 'Animation'],\n",
    "                          'Value': [82, 110, 2, 10, 4, 15, 23, 146, 0],\n",
    "                          'Location': ['Japan','Japan','Japan','Japan','Japan',\n",
    "                            'Japan','Japan','Japan','Japan']})"
   ]
  },
  {
   "cell_type": "code",
   "execution_count": 97,
   "metadata": {},
   "outputs": [],
   "source": [
    "net_UK = pd.DataFrame({'Genre': ['Comedy', 'Drama', 'Science Fiction/Fantasy', 'Action/Adventure', 'Suspense/Horror', 'Documentary', 'Romance', 'International', 'Animation'],\n",
    "                          'Value': [55, 64, 39, 35, 2, 88, 18, 78, 0],\n",
    "                          'Location': ['UK','UK','UK','UK','UK',\n",
    "                            'UK','UK','UK','UK']})"
   ]
  },
  {
   "cell_type": "code",
   "execution_count": 4,
   "metadata": {},
   "outputs": [],
   "source": [
    "net_US = pd.DataFrame({'Genre': ['Comedy', 'Drama', 'Science Fiction/Fantasy', 'Action/Adventure', 'Suspense/Horror', 'Documentary', 'Romance', 'International', 'Animation'],\n",
    "                          'Value': [11, 283, 148, 196, 44, 205, 122, 55, 10],\n",
    "                          'Location': ['USA','USA','USA','USA','USA',\n",
    "                            'USA','USA','USA','USA']})"
   ]
  },
  {
   "cell_type": "code",
   "execution_count": 100,
   "metadata": {},
   "outputs": [],
   "source": [
    "dfs = [hulu_JP, hulu_UK, hulu_US]\n",
    "hulu_genres = pd.concat(dfs)\n",
    "hulu_genres.to_csv('hulu_genres.csv')"
   ]
  },
  {
   "cell_type": "code",
   "execution_count": 5,
   "metadata": {},
   "outputs": [],
   "source": [
    "hulu_US = pd.DataFrame({'Genre': ['Comedy', 'Drama', 'Science Fiction/Fantasy', 'Action/Adventure', 'Suspense/Horror', 'Documentary', 'Romance', 'International', 'Animation'],\n",
    "                          'Value': [117, 54, 20, 60, 12, 42, 16, 3, 32],\n",
    "                          'Location': ['USA','USA','USA','USA','USA',\n",
    "                            'USA','USA','USA','USA']})"
   ]
  },
  {
   "cell_type": "code",
   "execution_count": 51,
   "metadata": {},
   "outputs": [],
   "source": [
    "hulu_UK = pd.DataFrame({'Genre': ['Comedy', 'Drama', 'Science Fiction/Fantasy', 'Action/Adventure', 'Suspense/Horror', 'Documentary', 'Romance', 'International', 'Animation'],\n",
    "                          'Value': [12, 21, 2, 11, 4, 5, 3, 15, 3],\n",
    "                          'Location': ['UK','UK','UK','UK','UK',\n",
    "                            'UK','UK','UK','UK']})"
   ]
  },
  {
   "cell_type": "code",
   "execution_count": 52,
   "metadata": {},
   "outputs": [],
   "source": [
    "hulu_JP = pd.DataFrame({'Genre': ['Comedy', 'Drama', 'Science Fiction/Fantasy', 'Action/Adventure', 'Suspense/Horror', 'Documentary', 'Romance', 'International', 'Animation'],\n",
    "                          'Value': [7, 5, 0, 18, 0, 1, 0, 7, 32],\n",
    "                          'Location': ['Japan','Japan','Japan','Japan','Japan',\n",
    "                            'Japan','Japan','Japan','Japan']})"
   ]
  },
  {
   "cell_type": "code",
   "execution_count": 105,
   "metadata": {},
   "outputs": [],
   "source": [
    "#Disney Genre\n",
    "\n",
    "dis_CA = pd.DataFrame({'Genre': ['Comedy', 'Drama', 'Science Fiction/Fantasy', 'Action/Adventure', 'Suspense/Horror', 'Documentary', 'Romance', 'International', 'Animation'],\n",
    "                          'Value': [29, 13, 34, 31, 0, 4, 1, 0, 24],\n",
    "                          'Location': ['Canada','Canada','Canada','Canada','Canada',\n",
    "                            'Canada','Canada','Canada','Canada']})"
   ]
  },
  {
   "cell_type": "code",
   "execution_count": 104,
   "metadata": {},
   "outputs": [],
   "source": [
    "dis_UK = pd.DataFrame({'Genre': ['Comedy', 'Drama', 'Science Fiction/Fantasy', 'Action/Adventure', 'Suspense/Horror', 'Documentary', 'Romance', 'International', 'Animation'],\n",
    "                          'Value': [27, 9, 25, 47, 0, 24, 1, 0, 36],\n",
    "                          'Location': ['UK','UK','UK','UK','UK',\n",
    "                            'UK','UK','UK','UK']})"
   ]
  },
  {
   "cell_type": "code",
   "execution_count": 6,
   "metadata": {},
   "outputs": [],
   "source": [
    "dis_US = pd.DataFrame({'Genre': ['Comedy', 'Drama', 'Science Fiction/Fantasy', 'Action/Adventure', 'Suspense/Horror', 'Documentary', 'Romance', 'International', 'Animation'],\n",
    "                          'Value': [481, 116, 242, 391, 0, 150, 21, 0, 586],\n",
    "                          'Location': ['USA','USA','USA','USA','USA',\n",
    "                            'USA','USA','USA','USA']})"
   ]
  },
  {
   "cell_type": "code",
   "execution_count": 106,
   "metadata": {},
   "outputs": [],
   "source": [
    "dfs = [dis_CA, dis_UK, dis_US]\n",
    "disney_genres = pd.concat(dfs)\n",
    "disney_genres.to_csv('disney_genres.csv')"
   ]
  },
  {
   "cell_type": "code",
   "execution_count": null,
   "metadata": {},
   "outputs": [],
   "source": [
    "#Amazon Genre\n",
    "#Genre, Value, Location \n",
    "\n",
    "India = pd.DataFrame({'Genre': ['Comedy', 'Drama', 'Science Fiction/Fantasy', 'Action/Adventure', 'Suspense/Horror', 'Documentary', 'Romance', 'International', 'Animation'],\n",
    "                          'Value': [14, 40, 1, 6, 7, 2, 16, 35, 0],\n",
    "                          'Location': ['India','India','India','India','India',\n",
    "                            'India','India','India','India','India','India','India']})\n",
    "                            "
   ]
  },
  {
   "cell_type": "code",
   "execution_count": 41,
   "metadata": {},
   "outputs": [
    {
     "data": {
      "text/plain": [
       "1"
      ]
     },
     "execution_count": 41,
     "metadata": {},
     "output_type": "execute_result"
    }
   ],
   "source": [
    "test = amazon_UK[amazon_UK['listed_in'].str.contains('Ani')]\n",
    "#netflix[netflix['rating'].str.contains('PG')\n",
    "test.shape[0]"
   ]
  },
  {
   "cell_type": "code",
   "execution_count": null,
   "metadata": {},
   "outputs": [],
   "source": [
    "UK = pd.DataFrame({'Genre': ['Comedy', 'Drama', 'Science Fiction/Fantasy', 'Action/Adventure', 'Suspense/Horror', 'Documentary', 'Romance', 'International', 'Animation'],\n",
    "                          'Value': [4, 6, 2, 9, 0, 3, 1, 3, 1],\n",
    "                          'Location': ['UK','UK','UK','UK','UK',\n",
    "                            'UK','UK','UK','UK','UK','UK','UK']})"
   ]
  },
  {
   "cell_type": "code",
   "execution_count": 56,
   "metadata": {},
   "outputs": [
    {
     "data": {
      "text/plain": [
       "4"
      ]
     },
     "execution_count": 56,
     "metadata": {},
     "output_type": "execute_result"
    }
   ],
   "source": [
    "test = amazon_US[amazon_US['listed_in'].str.contains('Ani')]\n",
    "#netflix[netflix['rating'].str.contains('PG')\n",
    "test.shape[0]"
   ]
  },
  {
   "cell_type": "code",
   "execution_count": 7,
   "metadata": {},
   "outputs": [],
   "source": [
    "amazon_US = pd.DataFrame({'Genre': ['Comedy', 'Drama', 'Science Fiction/Fantasy', 'Action/Adventure', 'Suspense/Horror', 'Documentary', 'Romance', 'International', 'Animation'],\n",
    "                          'Value': [32, 30, 11, 33, 16, 7, 3, 10, 4],\n",
    "                          'Location': ['USA','USA','USA','USA','USA',\n",
    "                            'USA','USA','USA','USA']})"
   ]
  },
  {
   "cell_type": "code",
   "execution_count": 5,
   "metadata": {},
   "outputs": [],
   "source": [
    "am_US = pd.DataFrame({'Genre': ['Comedy', 'Drama', 'Science Fiction/Fantasy', 'Action/Adventure', 'Suspense/Horror', 'Documentary', 'Romance', 'International', 'Animation'],\n",
    "                          'Value': [32, 30, 11, 33, 16, 7, 3, 10, 4],\n",
    "                          'Location': ['Amazon', 'Amazon', 'Amazon', 'Amazon', 'Amazon',\n",
    "                          'Amazon', 'Amazon', 'Amazon', 'Amazon']})\n",
    "\n",
    "dis_US = pd.DataFrame({'Genre': ['Comedy', 'Drama', 'Science Fiction/Fantasy', 'Action/Adventure', 'Suspense/Horror', 'Documentary', 'Romance', 'International', 'Animation'],\n",
    "                          'Value': [481, 116, 242, 391, 0, 150, 21, 0, 586],\n",
    "                          'Location': ['Disney', 'Disney', 'Disney', 'Disney', 'Disney',\n",
    "                          'Disney', 'Disney', 'Disney', 'Disney']})\n",
    "\n",
    "hu_US = pd.DataFrame({'Genre': ['Comedy', 'Drama', 'Science Fiction/Fantasy', 'Action/Adventure', 'Suspense/Horror', 'Documentary', 'Romance', 'International', 'Animation'],\n",
    "                          'Value': [117, 54, 20, 60, 12, 42, 16, 3, 32],\n",
    "                          'Location': ['Hulu', 'Hulu', 'Hulu', 'Hulu', 'Hulu', 'Hulu',\n",
    "                          'Hulu', 'Hulu', 'Hulu']})\n",
    "\n",
    "net_US = pd.DataFrame({'Genre': ['Comedy', 'Drama', 'Science Fiction/Fantasy', 'Action/Adventure', 'Suspense/Horror', 'Documentary', 'Romance', 'International', 'Animation'],\n",
    "                          'Value': [11, 283, 148, 196, 44, 205, 122, 55, 10],\n",
    "                          'Location': ['Netflix', 'Netflix', 'Netflix', 'Netflix', 'Netflix',\n",
    "                          'Netflix', 'Netflix', 'Netflix', 'Netflix']})"
   ]
  },
  {
   "cell_type": "code",
   "execution_count": 8,
   "metadata": {},
   "outputs": [],
   "source": [
    "dfs = [am_US, dis_US, hu_US, net_US]\n",
    "USA_genres = pd.concat(dfs)\n",
    "USA_genres.to_csv('USA_genres_2.csv')\n",
    "#USA_genres\n",
    "#USA_genres.to_csv('USA_genres.csv')"
   ]
  },
  {
   "cell_type": "code",
   "execution_count": 13,
   "metadata": {},
   "outputs": [],
   "source": [
    "US_genre_platform = pd.DataFrame({'name': ['Netflix', 'Disney', 'Amazon', 'Hulu'],\n",
    "                    'Comedy': [11, 481, 32, 117],\n",
    "                    'Drama': [283, 116, 30, 54], \n",
    "                    'Science Fiction/Fantasy': [148, 242, 11, 20], \n",
    "                    'Action/Adventure': [196, 391, 33, 60],\n",
    "                    'Suspense/Horror': [44, 0, 16, 12], \n",
    "                    'Documentary': [205, 150, 7, 42], \n",
    "                    'Romance': [122, 21, 3, 16],\n",
    "                    'International': [55, 0, 10, 3],\n",
    "                     'Animation/Cartoon': [10, 586, 4, 32]})\n",
    "\n",
    "US_genre_platform.to_csv('USA_genres.csv')"
   ]
  },
  {
   "cell_type": "code",
   "execution_count": null,
   "metadata": {},
   "outputs": [],
   "source": [
    "dfs = [India, UK, USA]\n",
    "amazon_genres = pd.concat(dfs)\n",
    "amazon_genres.to_csv('amazon_genres.csv')"
   ]
  }
 ],
 "metadata": {
  "kernelspec": {
   "display_name": "Python 3.8.10 64-bit",
   "language": "python",
   "name": "python3"
  },
  "language_info": {
   "codemirror_mode": {
    "name": "ipython",
    "version": 3
   },
   "file_extension": ".py",
   "mimetype": "text/x-python",
   "name": "python",
   "nbconvert_exporter": "python",
   "pygments_lexer": "ipython3",
   "version": "3.8.10"
  },
  "orig_nbformat": 4,
  "vscode": {
   "interpreter": {
    "hash": "916dbcbb3f70747c44a77c7bcd40155683ae19c65e1c03b4aa3499c5328201f1"
   }
  }
 },
 "nbformat": 4,
 "nbformat_minor": 2
}
