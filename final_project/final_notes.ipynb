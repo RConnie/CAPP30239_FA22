{
 "cells": [
  {
   "cell_type": "code",
   "execution_count": 1,
   "metadata": {},
   "outputs": [],
   "source": [
    "import pandas as pd\n",
    "import csv\n"
   ]
  },
  {
   "cell_type": "code",
   "execution_count": 2,
   "metadata": {},
   "outputs": [],
   "source": [
    "amazon_india = pd.read_csv('../data/amazon_kid_India.csv')\n",
    "amazon_UK = pd.read_csv('../data/amazon_kid_UK.csv')\n",
    "amazon_US = pd.read_csv('../data/amazon_kid_USA.csv')\n",
    "\n",
    "disney_CA = pd.read_csv('../data/disney_kid_Canada.csv')\n",
    "disney_UK = pd.read_csv('../data/disney_kid_UK.csv')\n",
    "disney_US = pd.read_csv('../data/disney_kid_USA.csv')\n",
    "\n",
    "hulu_JP = pd.read_csv('../data/hulu_kid_Japan.csv')\n",
    "hulu_UK = pd.read_csv('../data/hulu_kid_UK.csv')\n",
    "hulu_US = pd.read_csv('../data/hulu_kid_USA.csv')\n",
    "\n",
    "netflix_JP = pd.read_csv('../data/netflix_kid_India.csv')\n",
    "netflix_UK = pd.read_csv('../data/netflix_kid_UK.csv')\n",
    "netflix_US = pd.read_csv('../data/netflix_kid_USA.csv')\n",
    "\n"
   ]
  },
  {
   "cell_type": "code",
   "execution_count": 41,
   "metadata": {},
   "outputs": [
    {
     "data": {
      "text/plain": [
       "586"
      ]
     },
     "execution_count": 41,
     "metadata": {},
     "output_type": "execute_result"
    }
   ],
   "source": [
    "test = disney_US[disney_US['listed_in'].str.contains('Ani')]\n",
    "test.shape[0]\n",
    "#disney_UK.listed_in.unique()\n"
   ]
  },
  {
   "cell_type": "code",
   "execution_count": null,
   "metadata": {},
   "outputs": [],
   "source": [
    "#Disney Genre\n",
    "\n",
    "dis_CA = pd.DataFrame({'Genre': ['Comedy', 'Drama', 'Science Fiction/Fantasy', 'Action/Adventure', 'Suspense/Horror', 'Documentary', 'Romance', 'International', 'Animation'],\n",
    "                          'Value': [29, 13, 34, 31, 0, 4, 1, 0, 24],\n",
    "                          'Location': ['Canada','Canada','Canada','Canada','Canada',\n",
    "                            'Canada','Canada','Canada','Canada']})"
   ]
  },
  {
   "cell_type": "code",
   "execution_count": null,
   "metadata": {},
   "outputs": [],
   "source": [
    "dis_UK = pd.DataFrame({'Genre': ['Comedy', 'Drama', 'Science Fiction/Fantasy', 'Action/Adventure', 'Suspense/Horror', 'Documentary', 'Romance', 'International', 'Animation'],\n",
    "                          'Value': [27, 9, 25, 47, 0, 24, 1, 0, 36],\n",
    "                          'Location': ['UK','UK','UK','UK','UK',\n",
    "                            'UK','UK','UK','UK']})"
   ]
  },
  {
   "cell_type": "code",
   "execution_count": null,
   "metadata": {},
   "outputs": [],
   "source": [
    "dis_US = pd.DataFrame({'Genre': ['Comedy', 'Drama', 'Science Fiction/Fantasy', 'Action/Adventure', 'Suspense/Horror', 'Documentary', 'Romance', 'International', 'Animation'],\n",
    "                          'Value': [481, 116, 242, 391, 150, 21, 0, 586],\n",
    "                          'Location': ['USA','USA','USA','USA','USA',\n",
    "                            'USA','USA','USA','USA']})"
   ]
  },
  {
   "cell_type": "code",
   "execution_count": null,
   "metadata": {},
   "outputs": [],
   "source": [
    "dfs = [dis_CA, dis_UK, dis_US]\n",
    "amazon_genres = pd.concat(dfs)\n",
    "amazon_genres.to_csv('disney_genres.csv')"
   ]
  },
  {
   "cell_type": "code",
   "execution_count": null,
   "metadata": {},
   "outputs": [],
   "source": [
    "#Amazon Genre\n",
    "#Genre, Value, Location \n",
    "\n",
    "India = pd.DataFrame({'Genre': ['Comedy', 'Drama', 'Science Fiction/Fantasy', 'Action/Adventure', 'Suspense/Horror', 'Documentary', 'Romance', 'International', 'Animation'],\n",
    "                          'Value': [14, 40, 1, 6, 7, 2, 16, 35, 0],\n",
    "                          'Location': ['India','India','India','India','India',\n",
    "                            'India','India','India','India','India','India','India']})\n",
    "                            "
   ]
  },
  {
   "cell_type": "code",
   "execution_count": 41,
   "metadata": {},
   "outputs": [
    {
     "data": {
      "text/plain": [
       "1"
      ]
     },
     "execution_count": 41,
     "metadata": {},
     "output_type": "execute_result"
    }
   ],
   "source": [
    "test = amazon_UK[amazon_UK['listed_in'].str.contains('Ani')]\n",
    "#netflix[netflix['rating'].str.contains('PG')\n",
    "test.shape[0]"
   ]
  },
  {
   "cell_type": "code",
   "execution_count": null,
   "metadata": {},
   "outputs": [],
   "source": [
    "UK = pd.DataFrame({'Genre': ['Comedy', 'Drama', 'Science Fiction/Fantasy', 'Action/Adventure', 'Suspense/Horror', 'Documentary', 'Romance', 'International', 'Animation'],\n",
    "                          'Value': [4, 6, 2, 9, 0, 3, 1, 3, 1],\n",
    "                          'Location': ['UK','UK','UK','UK','UK',\n",
    "                            'UK','UK','UK','UK','UK','UK','UK']})"
   ]
  },
  {
   "cell_type": "code",
   "execution_count": 56,
   "metadata": {},
   "outputs": [
    {
     "data": {
      "text/plain": [
       "4"
      ]
     },
     "execution_count": 56,
     "metadata": {},
     "output_type": "execute_result"
    }
   ],
   "source": [
    "test = amazon_US[amazon_US['listed_in'].str.contains('Ani')]\n",
    "#netflix[netflix['rating'].str.contains('PG')\n",
    "test.shape[0]"
   ]
  },
  {
   "cell_type": "code",
   "execution_count": null,
   "metadata": {},
   "outputs": [],
   "source": [
    "USA = pd.DataFrame({'Genre': ['Comedy', 'Drama', 'Science Fiction/Fantasy', 'Action/Adventure', 'Suspense/Horror', 'Documentary', 'Romance', 'International', 'Animation'],\n",
    "                          'Value': [32, 30, 11, 33, 16, 7, 3, 10, 4],\n",
    "                          'Location': ['USA','USA','USA','USA','USA',\n",
    "                            'USA','USA','USA','USA','USA','USA','USA']})"
   ]
  },
  {
   "cell_type": "code",
   "execution_count": null,
   "metadata": {},
   "outputs": [],
   "source": [
    "dfs = [India, UK, USA]\n",
    "amazon_genres = pd.concat(dfs)\n",
    "amazon_genres.to_csv('amazon_genres.csv')"
   ]
  }
 ],
 "metadata": {
  "kernelspec": {
   "display_name": "Python 3.8.10 64-bit",
   "language": "python",
   "name": "python3"
  },
  "language_info": {
   "codemirror_mode": {
    "name": "ipython",
    "version": 3
   },
   "file_extension": ".py",
   "mimetype": "text/x-python",
   "name": "python",
   "nbconvert_exporter": "python",
   "pygments_lexer": "ipython3",
   "version": "3.8.10"
  },
  "orig_nbformat": 4,
  "vscode": {
   "interpreter": {
    "hash": "916dbcbb3f70747c44a77c7bcd40155683ae19c65e1c03b4aa3499c5328201f1"
   }
  }
 },
 "nbformat": 4,
 "nbformat_minor": 2
}
