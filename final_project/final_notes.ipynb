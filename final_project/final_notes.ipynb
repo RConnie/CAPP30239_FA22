{
 "cells": [
  {
   "cell_type": "code",
   "execution_count": 2,
   "metadata": {},
   "outputs": [],
   "source": [
    "import pandas as pd\n",
    "import csv\n"
   ]
  },
  {
   "cell_type": "code",
   "execution_count": 4,
   "metadata": {},
   "outputs": [],
   "source": [
    "amazon_india = pd.read_csv('../data/amazon_kid_India.csv')\n",
    "amazon_UK = pd.read_csv('../data/amazon_kid_UK.csv')\n",
    "amazon_US = pd.read_csv('../data/amazon_kid_USA.csv')\n",
    "\n",
    "#amazon_india.listed_in.unique()\n",
    "\n",
    "#Comedy\n",
    "#Drama\n",
    "#Science Fiction\n",
    "#Suspense\n",
    "#Documentary\n",
    "#Romance\n",
    "#International\n",
    "#Action\n",
    "#Animation\n",
    "\n"
   ]
  },
  {
   "cell_type": "code",
   "execution_count": 34,
   "metadata": {},
   "outputs": [
    {
     "data": {
      "text/plain": [
       "0"
      ]
     },
     "execution_count": 34,
     "metadata": {},
     "output_type": "execute_result"
    }
   ],
   "source": [
    "#disney_kid_USA.listed_in.value_counts()\n",
    "#amazon_india.listed_in.value_counts()\n",
    "test = amazon_india[amazon_india['listed_in'].str.contains('Horror')]\n",
    "#netflix[netflix['rating'].str.contains('PG')\n",
    "test.shape[0]\n"
   ]
  },
  {
   "cell_type": "code",
   "execution_count": null,
   "metadata": {},
   "outputs": [],
   "source": [
    "#Amazon Genre\n",
    "#Genre, Value, Location \n",
    "\n",
    "India = pd.DataFrame({'Genre': ['Comedy', 'Drama', 'Science Fiction/Fantasy', 'Action/Adventure', 'Suspense/Horror', 'Documentary', 'Romance', 'International', 'Animation'],\n",
    "                          'Value': [14, 40, 1, 6, 7, 2, 16, 35, 0],\n",
    "                          'Location': ['India','India','India','India','India',\n",
    "                            'India','India','India','India','India','India','India']})\n",
    "                            "
   ]
  },
  {
   "cell_type": "code",
   "execution_count": 41,
   "metadata": {},
   "outputs": [
    {
     "data": {
      "text/plain": [
       "1"
      ]
     },
     "execution_count": 41,
     "metadata": {},
     "output_type": "execute_result"
    }
   ],
   "source": [
    "test = amazon_UK[amazon_UK['listed_in'].str.contains('Ani')]\n",
    "#netflix[netflix['rating'].str.contains('PG')\n",
    "test.shape[0]"
   ]
  },
  {
   "cell_type": "code",
   "execution_count": null,
   "metadata": {},
   "outputs": [],
   "source": [
    "UK = pd.DataFrame({'Genre': ['Comedy', 'Drama', 'Science Fiction/Fantasy', 'Action/Adventure', 'Suspense/Horror', 'Documentary', 'Romance', 'International', 'Animation'],\n",
    "                          'Value': [4, 6, 2, 9, 0, 3, 1, 3, 1],\n",
    "                          'Location': ['UK','UK','UK','UK','UK',\n",
    "                            'UK','UK','UK','UK','UK','UK','UK']})"
   ]
  },
  {
   "cell_type": "code",
   "execution_count": 56,
   "metadata": {},
   "outputs": [
    {
     "data": {
      "text/plain": [
       "4"
      ]
     },
     "execution_count": 56,
     "metadata": {},
     "output_type": "execute_result"
    }
   ],
   "source": [
    "test = amazon_US[amazon_US['listed_in'].str.contains('Ani')]\n",
    "#netflix[netflix['rating'].str.contains('PG')\n",
    "test.shape[0]"
   ]
  },
  {
   "cell_type": "code",
   "execution_count": null,
   "metadata": {},
   "outputs": [],
   "source": [
    "USA = pd.DataFrame({'Genre': ['Comedy', 'Drama', 'Science Fiction/Fantasy', 'Action/Adventure', 'Suspense/Horror', 'Documentary', 'Romance', 'International', 'Animation'],\n",
    "                          'Value': [32, 30, 11, 33, 16, 7, 3, 10, 4],\n",
    "                          'Location': ['USA','USA','USA','USA','USA',\n",
    "                            'USA','USA','USA','USA','USA','USA','USA']})"
   ]
  },
  {
   "cell_type": "code",
   "execution_count": null,
   "metadata": {},
   "outputs": [],
   "source": [
    "dfs = [India, UK, USA]\n",
    "amazon_genres = pd.concat(dfs)\n",
    "amazon_genres.to_csv('amazon_genres.csv')"
   ]
  }
 ],
 "metadata": {
  "kernelspec": {
   "display_name": "Python 3.8.10 64-bit",
   "language": "python",
   "name": "python3"
  },
  "language_info": {
   "codemirror_mode": {
    "name": "ipython",
    "version": 3
   },
   "file_extension": ".py",
   "mimetype": "text/x-python",
   "name": "python",
   "nbconvert_exporter": "python",
   "pygments_lexer": "ipython3",
   "version": "3.8.10"
  },
  "orig_nbformat": 4,
  "vscode": {
   "interpreter": {
    "hash": "916dbcbb3f70747c44a77c7bcd40155683ae19c65e1c03b4aa3499c5328201f1"
   }
  }
 },
 "nbformat": 4,
 "nbformat_minor": 2
}
