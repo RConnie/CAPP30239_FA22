{
 "cells": [
  {
   "cell_type": "code",
   "execution_count": 2,
   "metadata": {},
   "outputs": [],
   "source": [
    "import json\n",
    "import csv\n",
    "import pandas as pd  \n",
    "  \n",
    "# Opening JSON file\n",
    "f = open('a3cleanedonly2015.json')\n",
    "  \n",
    "# returns JSON object as \n",
    "# a dictionary\n",
    "data = json.load(f)"
   ]
  },
  {
   "cell_type": "code",
   "execution_count": 3,
   "metadata": {},
   "outputs": [
    {
     "data": {
      "text/html": [
       "<div>\n",
       "<style scoped>\n",
       "    .dataframe tbody tr th:only-of-type {\n",
       "        vertical-align: middle;\n",
       "    }\n",
       "\n",
       "    .dataframe tbody tr th {\n",
       "        vertical-align: top;\n",
       "    }\n",
       "\n",
       "    .dataframe thead th {\n",
       "        text-align: right;\n",
       "    }\n",
       "</style>\n",
       "<table border=\"1\" class=\"dataframe\">\n",
       "  <thead>\n",
       "    <tr style=\"text-align: right;\">\n",
       "      <th></th>\n",
       "      <th>FIELD1</th>\n",
       "      <th>Unnamed: 0</th>\n",
       "      <th>UID</th>\n",
       "      <th>Name</th>\n",
       "      <th>Age</th>\n",
       "      <th>Gender</th>\n",
       "      <th>Race</th>\n",
       "      <th>Date</th>\n",
       "      <th>City</th>\n",
       "      <th>State</th>\n",
       "      <th>Manner_of_death</th>\n",
       "      <th>Armed</th>\n",
       "      <th>Mental_illness</th>\n",
       "      <th>Flee</th>\n",
       "      <th>Month</th>\n",
       "    </tr>\n",
       "  </thead>\n",
       "  <tbody>\n",
       "    <tr>\n",
       "      <th>0</th>\n",
       "      <td>103</td>\n",
       "      <td>104</td>\n",
       "      <td>9978</td>\n",
       "      <td>Tim Elliott</td>\n",
       "      <td>53.0</td>\n",
       "      <td>Male</td>\n",
       "      <td>Asian</td>\n",
       "      <td>2015-01-02</td>\n",
       "      <td>Shelton</td>\n",
       "      <td>WA</td>\n",
       "      <td>Shot</td>\n",
       "      <td></td>\n",
       "      <td>True</td>\n",
       "      <td>False</td>\n",
       "      <td>January</td>\n",
       "    </tr>\n",
       "    <tr>\n",
       "      <th>1</th>\n",
       "      <td>104</td>\n",
       "      <td>105</td>\n",
       "      <td>10077</td>\n",
       "      <td>Hung Trieu</td>\n",
       "      <td>NaN</td>\n",
       "      <td>Male</td>\n",
       "      <td>Asian</td>\n",
       "      <td>2015-02-01</td>\n",
       "      <td>Houston</td>\n",
       "      <td>TX</td>\n",
       "      <td>Shot</td>\n",
       "      <td></td>\n",
       "      <td>False</td>\n",
       "      <td>False</td>\n",
       "      <td>February</td>\n",
       "    </tr>\n",
       "    <tr>\n",
       "      <th>2</th>\n",
       "      <td>105</td>\n",
       "      <td>106</td>\n",
       "      <td>10374</td>\n",
       "      <td>Lue Vang</td>\n",
       "      <td>39.0</td>\n",
       "      <td>Male</td>\n",
       "      <td>Asian</td>\n",
       "      <td>2015-04-22</td>\n",
       "      <td>Eldorado Springs</td>\n",
       "      <td>CO</td>\n",
       "      <td>Shot</td>\n",
       "      <td></td>\n",
       "      <td>False</td>\n",
       "      <td>False</td>\n",
       "      <td>April</td>\n",
       "    </tr>\n",
       "    <tr>\n",
       "      <th>3</th>\n",
       "      <td>106</td>\n",
       "      <td>107</td>\n",
       "      <td>10421</td>\n",
       "      <td>Thong Kien Ma</td>\n",
       "      <td>32.0</td>\n",
       "      <td>Male</td>\n",
       "      <td>Asian</td>\n",
       "      <td>2015-05-05</td>\n",
       "      <td>South El Monte</td>\n",
       "      <td>CA</td>\n",
       "      <td>Shot</td>\n",
       "      <td></td>\n",
       "      <td>False</td>\n",
       "      <td>False</td>\n",
       "      <td>May</td>\n",
       "    </tr>\n",
       "    <tr>\n",
       "      <th>4</th>\n",
       "      <td>107</td>\n",
       "      <td>108</td>\n",
       "      <td>10628</td>\n",
       "      <td>Ton Nguyen</td>\n",
       "      <td>60.0</td>\n",
       "      <td>Male</td>\n",
       "      <td>Asian</td>\n",
       "      <td>2015-07-02</td>\n",
       "      <td>San Diego</td>\n",
       "      <td>CA</td>\n",
       "      <td>Shot</td>\n",
       "      <td></td>\n",
       "      <td>False</td>\n",
       "      <td>False</td>\n",
       "      <td>July</td>\n",
       "    </tr>\n",
       "  </tbody>\n",
       "</table>\n",
       "</div>"
      ],
      "text/plain": [
       "   FIELD1  Unnamed: 0    UID           Name   Age Gender   Race       Date  \\\n",
       "0     103         104   9978    Tim Elliott  53.0   Male  Asian 2015-01-02   \n",
       "1     104         105  10077     Hung Trieu   NaN   Male  Asian 2015-02-01   \n",
       "2     105         106  10374       Lue Vang  39.0   Male  Asian 2015-04-22   \n",
       "3     106         107  10421  Thong Kien Ma  32.0   Male  Asian 2015-05-05   \n",
       "4     107         108  10628     Ton Nguyen  60.0   Male  Asian 2015-07-02   \n",
       "\n",
       "               City State Manner_of_death Armed  Mental_illness   Flee  \\\n",
       "0           Shelton    WA            Shot                  True  False   \n",
       "1           Houston    TX            Shot                 False  False   \n",
       "2  Eldorado Springs    CO            Shot                 False  False   \n",
       "3    South El Monte    CA            Shot                 False  False   \n",
       "4         San Diego    CA            Shot                 False  False   \n",
       "\n",
       "      Month  \n",
       "0   January  \n",
       "1  February  \n",
       "2     April  \n",
       "3       May  \n",
       "4      July  "
      ]
     },
     "execution_count": 3,
     "metadata": {},
     "output_type": "execute_result"
    }
   ],
   "source": [
    "police_shoot = pd.read_json(\"a3cleanedonly2015.json\")\n",
    "police_shoot['Month']=police_shoot['Date'].dt.month_name()\n",
    "\n",
    "police_shoot.head()\n",
    "\n",
    "#police_shoot.Mental_illness.value_counts()\n",
    "#police_shoot.Race.unique()\n",
    "#'Asian', 'Black', 'Hispanic', 'Other', 'Native', 'White'"
   ]
  },
  {
   "cell_type": "code",
   "execution_count": 4,
   "metadata": {},
   "outputs": [
    {
     "data": {
      "text/html": [
       "<div>\n",
       "<style scoped>\n",
       "    .dataframe tbody tr th:only-of-type {\n",
       "        vertical-align: middle;\n",
       "    }\n",
       "\n",
       "    .dataframe tbody tr th {\n",
       "        vertical-align: top;\n",
       "    }\n",
       "\n",
       "    .dataframe thead th {\n",
       "        text-align: right;\n",
       "    }\n",
       "</style>\n",
       "<table border=\"1\" class=\"dataframe\">\n",
       "  <thead>\n",
       "    <tr style=\"text-align: right;\">\n",
       "      <th></th>\n",
       "      <th>Mental_illness</th>\n",
       "      <th>Manner_of_death</th>\n",
       "      <th>Race</th>\n",
       "      <th>State</th>\n",
       "      <th>Armed</th>\n",
       "      <th>Date</th>\n",
       "    </tr>\n",
       "  </thead>\n",
       "  <tbody>\n",
       "    <tr>\n",
       "      <th>0</th>\n",
       "      <td>True</td>\n",
       "      <td>Shot</td>\n",
       "      <td>Asian</td>\n",
       "      <td>WA</td>\n",
       "      <td></td>\n",
       "      <td>2015-01-02</td>\n",
       "    </tr>\n",
       "    <tr>\n",
       "      <th>11</th>\n",
       "      <td>True</td>\n",
       "      <td>Shot</td>\n",
       "      <td>Asian</td>\n",
       "      <td>WA</td>\n",
       "      <td>Gun</td>\n",
       "      <td>2015-01-02</td>\n",
       "    </tr>\n",
       "    <tr>\n",
       "      <th>14</th>\n",
       "      <td>True</td>\n",
       "      <td>Shot</td>\n",
       "      <td>Asian</td>\n",
       "      <td>CA</td>\n",
       "      <td>Knife</td>\n",
       "      <td>2015-04-08</td>\n",
       "    </tr>\n",
       "    <tr>\n",
       "      <th>17</th>\n",
       "      <td>True</td>\n",
       "      <td>Shot and Tasered</td>\n",
       "      <td>Asian</td>\n",
       "      <td>CA</td>\n",
       "      <td>Hammer</td>\n",
       "      <td>2015-01-28</td>\n",
       "    </tr>\n",
       "    <tr>\n",
       "      <th>24</th>\n",
       "      <td>True</td>\n",
       "      <td>Shot</td>\n",
       "      <td>Black</td>\n",
       "      <td>VA</td>\n",
       "      <td></td>\n",
       "      <td>2015-01-14</td>\n",
       "    </tr>\n",
       "  </tbody>\n",
       "</table>\n",
       "</div>"
      ],
      "text/plain": [
       "    Mental_illness   Manner_of_death   Race State   Armed       Date\n",
       "0             True              Shot  Asian    WA         2015-01-02\n",
       "11            True              Shot  Asian    WA     Gun 2015-01-02\n",
       "14            True              Shot  Asian    CA   Knife 2015-04-08\n",
       "17            True  Shot and Tasered  Asian    CA  Hammer 2015-01-28\n",
       "24            True              Shot  Black    VA         2015-01-14"
      ]
     },
     "execution_count": 4,
     "metadata": {},
     "output_type": "execute_result"
    }
   ],
   "source": [
    "temp = police_shoot.filter(['Mental_illness', 'Manner_of_death', 'Race', 'State', 'Armed', 'Date'])\n",
    "mental= temp[temp['Mental_illness'] ==True]\n",
    "\n",
    "mental.head()\n",
    "#mental.State.value_counts() #CA, TX, FL"
   ]
  },
  {
   "cell_type": "code",
   "execution_count": 5,
   "metadata": {},
   "outputs": [
    {
     "data": {
      "text/plain": [
       "14     2015-04-08\n",
       "17     2015-01-28\n",
       "46     2015-02-15\n",
       "57     2015-03-01\n",
       "63     2015-03-08\n",
       "          ...    \n",
       "1481   2015-08-10\n",
       "1513   2015-04-30\n",
       "1520   2015-09-10\n",
       "1525   2015-10-06\n",
       "1533   2015-05-06\n",
       "Name: Date, Length: 121, dtype: datetime64[ns]"
      ]
     },
     "execution_count": 5,
     "metadata": {},
     "output_type": "execute_result"
    }
   ],
   "source": [
    "mental_loc_df = mental[mental['State'].str.contains('CA')|mental['State'].str.contains('TX') | mental['State'].str.contains('FL')]\n",
    "#mental_loc_df.to_csv('mental_location.csv') \n",
    "mental_loc_df.head()\n",
    "#test = mental_loc_df[mental_loc_df['State'] == 'TX']\n",
    "#TX_mon = test[test['Month'] == 'September']\n",
    "#TX_mon.shape[0]\n",
    "d = mental_loc_df.Date\n",
    "\n",
    "d\n",
    "\n"
   ]
  },
  {
   "cell_type": "code",
   "execution_count": 6,
   "metadata": {},
   "outputs": [],
   "source": [
    "texas = pd.DataFrame({'Date': pd.to_datetime(['2015-01-01', '2015-02-01', '2015-03-01','2015-04-01', '2015-05-01', '2015-06-01',\n",
    "                         '2015-07-01', '2015-08-01', '2015-09-01', '2015-10-01','2015-11-01', '2015-12-01']),\n",
    "                          'Value': [5, 2, 2, 1, 3, 12, 1, 4, 2, 1, 2, 4],\n",
    "                          'Location': ['Texas','Texas','Texas','Texas','Texas',\n",
    "                            'Texas','Texas','Texas','Texas','Texas','Texas','Texas']})\n",
    "\n"
   ]
  },
  {
   "cell_type": "code",
   "execution_count": 7,
   "metadata": {},
   "outputs": [],
   "source": [
    "california = pd.DataFrame({'Date': pd.to_datetime(['2015-01-01', '2015-02-01', '2015-03-01','2015-04-01', '2015-05-01', '2015-06-01',\n",
    "                         '2015-07-01', '2015-08-01', '2015-09-01', '2015-10-01','2015-11-01', '2015-12-01']),\n",
    "                          'Value': [5, 1, 13, 6, 7, 1, 7, 5, 6, 4, 3, 3],\n",
    "                          'Location': ['California','California','California','California','California',\n",
    "                            'California','California','California','California','California','California','California']})\n",
    "\n"
   ]
  },
  {
   "cell_type": "code",
   "execution_count": 8,
   "metadata": {},
   "outputs": [],
   "source": [
    "florida = pd.DataFrame({'Date': pd.to_datetime(['2015-01-01', '2015-02-01', '2015-03-01','2015-04-01', '2015-05-01', '2015-06-01',\n",
    "                         '2015-07-01', '2015-08-01', '2015-09-01', '2015-10-01','2015-11-01', '2015-12-01']),\n",
    "                          'Value': [1, 1, 1, 1, 7, 2, 2, 1, 4, 1, 0, 0],\n",
    "                          'Location': ['Florida','Florida','Florida','Florida','Florida',\n",
    "                            'Florida','Florida','Florida','Florida','Florida','Florida','Florida']})"
   ]
  },
  {
   "cell_type": "code",
   "execution_count": 9,
   "metadata": {},
   "outputs": [],
   "source": [
    "dfs = [california, texas, florida]\n",
    "location_num = pd.concat(dfs)\n",
    "location_num.to_csv('location_num3.csv')\n",
    "#police_race_num.to_csv('police_race_num.csv') \n",
    "#frames = [df1, df2, df3]\n",
    "\n",
    "#result = pd.concat(frames)"
   ]
  },
  {
   "cell_type": "code",
   "execution_count": 31,
   "metadata": {},
   "outputs": [],
   "source": [
    "#Mentall Illness and Race\n",
    "#mental.Race.unique() #'Asian', 'Black', 'Hispanic', 'Other', 'Native', 'White', ''\n",
    "\n",
    "#mental.Race.value_counts()\n",
    "total= 327\n",
    "\n",
    "race_ill_percent = pd.DataFrame({'Race': ['White', 'Black', 'Hispanic', 'Asian', 'Native', 'Other', \"Unknown\"],\n",
    "                          'Num_of_deaths': [186, 52, 48, 4, 4, 1, 32],\n",
    "                          'Mental_Percent': [(186/751) * 100, (52/378) * 100, (48/246) * 100, (4/19) * 100, (4/19) * 100, (1/10)*100, \n",
    "                          (32/114) * 100],\n",
    "                          'Gen_Percent': [(565/751) * 100, (326/378) * 100, (198/246) * 100, (15/19) * 100, (15/19) * 100, (9/10)*100, \n",
    "                          (82/114) * 100]})\n",
    "\n",
    "#police_shoot.Race.value_counts()\n",
    "race_ill_percent.to_csv('race_ill_percent.csv')\n",
    "\n",
    "\n",
    "\n"
   ]
  },
  {
   "cell_type": "code",
   "execution_count": null,
   "metadata": {},
   "outputs": [],
   "source": [
    "a =police_shoot[police_shoot['State'] == ['WA', 'CA', 'VA', 'FL', 'AL', 'GA', 'MO', 'NY', 'MN', 'MI', 'LA',\n",
    "                                            'KY', 'TX', 'NC', 'SC', 'OH', 'IN', 'TN', 'IL', 'DC', 'DE', 'MD',\n",
    "                                            'PA', 'OK', 'AZ', 'WI', 'NJ', 'MA', 'CO', 'KS', 'UT', 'ME', 'WV',\n",
    "                                            'OR', 'IA', 'MT', 'WY', 'NV', 'NH', 'NE', 'SD', 'MS', 'CT']]\n",
    "#b = mental[mental['State'] == 'CT']\n",
    "#b.shape[0], a.shape[0]"
   ]
  },
  {
   "cell_type": "code",
   "execution_count": 99,
   "metadata": {},
   "outputs": [],
   "source": [
    "#state  % ill\n",
    "\n",
    "state_ill_percent = pd.DataFrame({'State': ['WA', 'CA', 'VA', 'FL', 'AL', 'GA', 'MO', 'NY', 'MN', 'MI', 'LA',\n",
    "                                            'KY', 'TX', 'NC', 'SC', 'OH', 'IN', 'TN', 'IL', 'DC', 'DE', 'MD',\n",
    "                                            'PA', 'OK', 'AZ', 'WI', 'NJ', 'MA', 'CO', 'KS', 'UT', 'ME', 'WV',\n",
    "                                            'OR', 'IA', 'MT', 'WY', 'NV', 'NH', 'NE', 'SD', 'MS', 'CT'],\n",
    "                          'Mental_Percent': [(11/26) * 100, (61/276) * 100, (6/35) * 100, (21/91) * 100, (12/31) * 100, (10/47)*100, \n",
    "                          (4/29) * 100, (8/26) * 100, (9/23) * 100, (5/21) * 100, (10/43) * 100, (2/24) * 100, (39/174) * 100, (7/32) * 100,\n",
    "                          (2/31) * 100, (6/46) * 100, (5/26) * 100, (9/29) * 100, (6/31) * 100, (1/7) * 100, (1/7) * 100, (5/24) * 100,\n",
    "                          (5/29) * 100, (9/50) * 100, (14/60) * 100, (2/14) * 100, (7/21) * 100, (3/14) * 100, (5/38) * 100, (3/17) * 100, (6/13) * 100,\n",
    "                          (2/4) * 100, (2/17) * 100, (13/27) * 100, (1/8) * 100, (1/6) * 100, (1/8) * 100, (4/32) * 100, (4/5) * 100, (1/14) * 100, \n",
    "                          (2/6) * 100, (1/19) * 100, (1/4) * 100],\n",
    "\n",
    "                          'Total_Death':[26, 276, 35, 91, 31, 47, 29, 26, 23, 21, 43, 24, 174, 32,\n",
    "                          31, 46, 26, 29, 31, 7, 7, 24, 29, 50, 60, 14, 21, 14, 38, 17, 13,\n",
    "                          4, 17, 27, 8, 6, 8, 32, 5, 14, 6, 19, 4]})\n",
    "\n",
    "#mental.State.value_counts()\n",
    "#mental.State.unique()\n",
    "state_ill_percent.to_csv('state_ill_percent.csv')\n",
    "\n"
   ]
  },
  {
   "cell_type": "code",
   "execution_count": 48,
   "metadata": {},
   "outputs": [
    {
     "data": {
      "text/plain": [
       "276"
      ]
     },
     "execution_count": 48,
     "metadata": {},
     "output_type": "execute_result"
    }
   ],
   "source": [
    "\n"
   ]
  },
  {
   "cell_type": "code",
   "execution_count": null,
   "metadata": {},
   "outputs": [],
   "source": [
    "\n",
    "\n",
    "mental.Manner_of_death.unique() #'Shot', 'Shot and Tasered', 'Tasered'\n",
    "mental.State.unique() #['WA', 'CA', 'VA', 'FL', 'AL', 'GA', 'MO', 'NY', 'MN', 'MI', 'LA',\n",
    "       #'KY', 'TX', 'NC', 'SC', 'OH', 'IN', 'TN', 'IL', 'DC', 'DE', 'MD',\n",
    "       #'PA', 'OK', 'AZ', 'WI', 'NJ', 'MA', 'CO', 'KS', 'UT', 'ME', 'WV',\n",
    "       #'OR', 'IA', 'MT', 'WY', 'NV', 'NH', 'NE', 'SD', 'MS', 'CT']\n",
    "mental.State.value_counts() #CA(61), TX(39), FL(21)\n",
    "#police_shoot.State.value_counts() #CA(276), TX(174), FL(91)\n",
    "#netflix.rating.unique()\n",
    "#police_race_stat.Race.value_counts()\n",
    "\n",
    "#df.filter([\"Name\", \"College\", \"Salary\"])"
   ]
  },
  {
   "cell_type": "code",
   "execution_count": null,
   "metadata": {},
   "outputs": [],
   "source": [
    "mental['month'] = pd.DatetimeIndex(mental['Date']).month\n",
    "#df['month'] = pd.DatetimeIndex(df['Date Attribute']).month"
   ]
  },
  {
   "cell_type": "code",
   "execution_count": 31,
   "metadata": {},
   "outputs": [
    {
     "data": {
      "text/plain": [
       "327"
      ]
     },
     "execution_count": 31,
     "metadata": {},
     "output_type": "execute_result"
    }
   ],
   "source": [
    "mental.Manner_of_death.value_counts()\n",
    "mental.shape[0]"
   ]
  },
  {
   "cell_type": "code",
   "execution_count": null,
   "metadata": {},
   "outputs": [],
   "source": [
    "#create column in mental of # of total deaths per state"
   ]
  },
  {
   "cell_type": "code",
   "execution_count": 9,
   "metadata": {},
   "outputs": [
    {
     "data": {
      "text/plain": [
       "1537"
      ]
     },
     "execution_count": 9,
     "metadata": {},
     "output_type": "execute_result"
    }
   ],
   "source": [
    "police_race_stat = police_shoot.dropna(subset=['Race'])\n",
    "#disney_country = disney_kid_df.dropna(subset=['country'])\n",
    "\n",
    "police_race_freq = police_race_stat.Race.value_counts()\n",
    "#country_freq = disney_country.country.value_counts()\n",
    "\n",
    "police_race_freq\n",
    "police_shoot.shape[0]\n",
    "\n",
    "#netflix = netflix.dropna()"
   ]
  },
  {
   "cell_type": "code",
   "execution_count": 21,
   "metadata": {},
   "outputs": [],
   "source": [
    "police_shoot.to_csv('police.csv') "
   ]
  },
  {
   "cell_type": "code",
   "execution_count": 13,
   "metadata": {},
   "outputs": [],
   "source": [
    "police_race_num = pd.DataFrame({'Race': ['White', 'Black', 'Hispanic', 'Blank', 'Asian', 'Native', 'Other'],\n",
    "                                'Number': [751, 378, 246, 114, 19, 19, 10],\n",
    "                                'Percent': [751/1537, 378/1537, 246/1537, 114/1537, 19/1537, 19/1537, 10/1537]\n",
    "})\n",
    "\n",
    "police_race_num.to_csv('police_race_num.csv') \n",
    "\n"
   ]
  }
 ],
 "metadata": {
  "kernelspec": {
   "display_name": "Python 3.8.10 64-bit",
   "language": "python",
   "name": "python3"
  },
  "language_info": {
   "codemirror_mode": {
    "name": "ipython",
    "version": 3
   },
   "file_extension": ".py",
   "mimetype": "text/x-python",
   "name": "python",
   "nbconvert_exporter": "python",
   "pygments_lexer": "ipython3",
   "version": "3.8.10"
  },
  "orig_nbformat": 4,
  "vscode": {
   "interpreter": {
    "hash": "916dbcbb3f70747c44a77c7bcd40155683ae19c65e1c03b4aa3499c5328201f1"
   }
  }
 },
 "nbformat": 4,
 "nbformat_minor": 2
}
