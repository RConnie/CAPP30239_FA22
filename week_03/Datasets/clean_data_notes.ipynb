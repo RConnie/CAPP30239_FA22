{
 "cells": [
  {
   "cell_type": "code",
   "execution_count": 1,
   "metadata": {},
   "outputs": [],
   "source": [
    "import pandas as pd\n",
    "import csv"
   ]
  },
  {
   "cell_type": "code",
   "execution_count": 8,
   "metadata": {},
   "outputs": [
    {
     "data": {
      "text/plain": [
       "array(['TV-G', 'PG-13', 'G', 'PG', 'TV-14', 'TV-PG', 'TV-Y7-FV', 'TV-Y7',\n",
       "       'TV-Y'], dtype=object)"
      ]
     },
     "execution_count": 8,
     "metadata": {},
     "output_type": "execute_result"
    }
   ],
   "source": [
    "#cleaning Disney + dataset\n",
    "#disney = pd.read_csv(file)\n",
    "#disney =disney.dropna()\n",
    "#disney_file = \n",
    "disney = pd.read_csv('../Datasets/disney_plus_titles.csv')\n",
    "#disney = pd.read_csv('../capp30239/CAPP30239_FA22/week_03/Datasets/disney_plus_titles.csv')\n",
    "disney = disney.dropna()\n",
    "\n",
    "\n",
    "\n",
    "disney_kid_df = disney[disney['rating'].str.contains('TV-G') |disney['rating'].str.contains('TV-PG') |\n",
    "    disney['rating'].str.contains('G') | disney['rating'].str.contains('PG')| disney['rating'].str.contains('TV-Y7') |\n",
    "    disney['rating'].str.contains('TV-Y') | disney['rating'].str.contains('TV-Y7-FV') ]\n",
    "\n",
    "\n",
    "disney_adult_df = disney[disney['rating'].str.contains('PG-13') |disney['rating'].str.contains('TV-14')]\n",
    "\n",
    "#df.to_csv(\"<path to desktop and filename>\")\n",
    "\n",
    "disney.rating.unique()"
   ]
  }
 ],
 "metadata": {
  "kernelspec": {
   "display_name": "Python 3.8.10 64-bit",
   "language": "python",
   "name": "python3"
  },
  "language_info": {
   "codemirror_mode": {
    "name": "ipython",
    "version": 3
   },
   "file_extension": ".py",
   "mimetype": "text/x-python",
   "name": "python",
   "nbconvert_exporter": "python",
   "pygments_lexer": "ipython3",
   "version": "3.8.10"
  },
  "orig_nbformat": 4,
  "vscode": {
   "interpreter": {
    "hash": "31f2aee4e71d21fbe5cf8b01ff0e069b9275f58929596ceb00d14d90e3e16cd6"
   }
  }
 },
 "nbformat": 4,
 "nbformat_minor": 2
}
